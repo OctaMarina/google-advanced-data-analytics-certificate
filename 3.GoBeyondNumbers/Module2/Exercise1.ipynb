{
 "cells": [
  {
   "metadata": {},
   "cell_type": "markdown",
   "source": [
    "# Exercise 1\n",
    "\n",
    "# Exploratory Data Analysis (EDA) Exercises with Pandas\n",
    "\n",
    "Dataset used: `eda_using_basic_data_functions_in_python_dataset1.csv`\n",
    "\n",
    "---\n",
    "\n",
    "## Exercise 1: Load the dataset\n",
    "\n",
    "- Load the CSV file into a pandas DataFrame.\n",
    "- Display the first 5 rows to inspect the data.\n",
    "\n",
    "---\n",
    "\n",
    "## Exercise 2: Basic Data Exploration\n",
    "\n",
    "- Display the column names.\n",
    "- Display the shape of the dataset (number of rows and columns).\n",
    "- Find the data types of each column.\n",
    "\n",
    "---\n",
    "\n",
    "## Exercise 3: Summary Statistics\n",
    "\n",
    "- Calculate the basic statistics (`mean`, `min`, `max`, `std`) for the `number_of_strikes` column.\n",
    "\n",
    "---\n",
    "\n",
    "## Exercise 4: Handling Missing Values\n",
    "\n",
    "- Check if there are any missing values in the dataset.\n",
    "- If there are missing values, count them per column.\n",
    "\n",
    "---\n",
    "\n",
    "## Exercise 5: Data Filtering\n",
    "\n",
    "- Select all rows where `number_of_strikes` is greater than 100.\n",
    "\n",
    "---\n",
    "\n",
    "## Exercise 6: Working with Dates\n",
    "\n",
    "- Convert the `date` column to a datetime format if it's not already.\n",
    "- Extract the year and month into two new columns: `year`, `month`.\n",
    "\n",
    "---\n",
    "\n",
    "## Exercise 7: Grouping and Aggregating\n",
    "\n",
    "- Group the data by `year` and calculate the total number of strikes for each year.\n",
    "\n",
    "---\n",
    "\n",
    "## Exercise 8: Sorting\n",
    "\n",
    "- Sort the dataset by `number_of_strikes` in descending order.\n",
    "- Display the top 10 rows.\n",
    "\n",
    "---\n",
    "\n",
    "## Exercise 9: String Manipulation\n",
    "\n",
    "- Extract latitude and longitude separately from the `center_point_geom` column if it contains coordinates (you may need to split the string).\n",
    "\n",
    "*Hint:* You might need to use `str.split()` and `expand=True`.\n",
    "\n",
    "---\n",
    "\n",
    "## Exercise 10: Basic Visualization (Bonus)\n",
    "\n",
    "- Create a simple line plot showing the total number of strikes per year.\n",
    "\n",
    "*Hint:* You can use `matplotlib.pyplot` or `pandas` built-in `.plot()` function.\n",
    "\n",
    "---\n",
    "\n",
    "# 📚 Summary of Skills Practiced\n",
    "- Data loading\n",
    "- Data inspection\n",
    "- Statistical summaries\n",
    "- Missing data handling\n",
    "- Filtering and sorting\n",
    "- Grouping and aggregation\n",
    "- String and datetime manipulation\n",
    "- Simple visualizations\n"
   ],
   "id": "44f39040cf354126"
  },
  {
   "metadata": {
    "ExecuteTime": {
     "end_time": "2025-04-18T11:05:25.698986Z",
     "start_time": "2025-04-18T11:05:25.119222Z"
    }
   },
   "cell_type": "code",
   "source": "import pandas as pd",
   "id": "94d1940d41f5a8ce",
   "outputs": [],
   "execution_count": 1
  },
  {
   "metadata": {
    "ExecuteTime": {
     "end_time": "2025-04-18T11:05:27.843910Z",
     "start_time": "2025-04-18T11:05:25.705370Z"
    }
   },
   "cell_type": "code",
   "source": "df = pd.read_csv(\"eda_using_basic_data_functions_in_python_dataset1.csv\")",
   "id": "28a2b2ec110bf936",
   "outputs": [],
   "execution_count": 2
  },
  {
   "metadata": {
    "ExecuteTime": {
     "end_time": "2025-04-18T11:05:28.118246Z",
     "start_time": "2025-04-18T11:05:28.100345Z"
    }
   },
   "cell_type": "code",
   "source": "df.info()",
   "id": "eb6ed71c0a5792c9",
   "outputs": [
    {
     "name": "stdout",
     "output_type": "stream",
     "text": [
      "<class 'pandas.core.frame.DataFrame'>\n",
      "RangeIndex: 3401012 entries, 0 to 3401011\n",
      "Data columns (total 3 columns):\n",
      " #   Column             Dtype \n",
      "---  ------             ----- \n",
      " 0   date               object\n",
      " 1   number_of_strikes  int64 \n",
      " 2   center_point_geom  object\n",
      "dtypes: int64(1), object(2)\n",
      "memory usage: 77.8+ MB\n"
     ]
    }
   ],
   "execution_count": 3
  },
  {
   "metadata": {
    "ExecuteTime": {
     "end_time": "2025-04-18T11:05:28.173994Z",
     "start_time": "2025-04-18T11:05:28.152945Z"
    }
   },
   "cell_type": "code",
   "source": "df.head()",
   "id": "64bf006dd487582b",
   "outputs": [
    {
     "data": {
      "text/plain": [
       "         date  number_of_strikes center_point_geom\n",
       "0  2018-01-03                194     POINT(-75 27)\n",
       "1  2018-01-03                 41   POINT(-78.4 29)\n",
       "2  2018-01-03                 33   POINT(-73.9 27)\n",
       "3  2018-01-03                 38   POINT(-73.8 27)\n",
       "4  2018-01-03                 92     POINT(-79 28)"
      ],
      "text/html": [
       "<div>\n",
       "<style scoped>\n",
       "    .dataframe tbody tr th:only-of-type {\n",
       "        vertical-align: middle;\n",
       "    }\n",
       "\n",
       "    .dataframe tbody tr th {\n",
       "        vertical-align: top;\n",
       "    }\n",
       "\n",
       "    .dataframe thead th {\n",
       "        text-align: right;\n",
       "    }\n",
       "</style>\n",
       "<table border=\"1\" class=\"dataframe\">\n",
       "  <thead>\n",
       "    <tr style=\"text-align: right;\">\n",
       "      <th></th>\n",
       "      <th>date</th>\n",
       "      <th>number_of_strikes</th>\n",
       "      <th>center_point_geom</th>\n",
       "    </tr>\n",
       "  </thead>\n",
       "  <tbody>\n",
       "    <tr>\n",
       "      <th>0</th>\n",
       "      <td>2018-01-03</td>\n",
       "      <td>194</td>\n",
       "      <td>POINT(-75 27)</td>\n",
       "    </tr>\n",
       "    <tr>\n",
       "      <th>1</th>\n",
       "      <td>2018-01-03</td>\n",
       "      <td>41</td>\n",
       "      <td>POINT(-78.4 29)</td>\n",
       "    </tr>\n",
       "    <tr>\n",
       "      <th>2</th>\n",
       "      <td>2018-01-03</td>\n",
       "      <td>33</td>\n",
       "      <td>POINT(-73.9 27)</td>\n",
       "    </tr>\n",
       "    <tr>\n",
       "      <th>3</th>\n",
       "      <td>2018-01-03</td>\n",
       "      <td>38</td>\n",
       "      <td>POINT(-73.8 27)</td>\n",
       "    </tr>\n",
       "    <tr>\n",
       "      <th>4</th>\n",
       "      <td>2018-01-03</td>\n",
       "      <td>92</td>\n",
       "      <td>POINT(-79 28)</td>\n",
       "    </tr>\n",
       "  </tbody>\n",
       "</table>\n",
       "</div>"
      ]
     },
     "execution_count": 4,
     "metadata": {},
     "output_type": "execute_result"
    }
   ],
   "execution_count": 4
  },
  {
   "metadata": {
    "ExecuteTime": {
     "end_time": "2025-04-18T11:05:28.240117Z",
     "start_time": "2025-04-18T11:05:28.230971Z"
    }
   },
   "cell_type": "code",
   "source": "df.columns",
   "id": "1217ea252807cc12",
   "outputs": [
    {
     "data": {
      "text/plain": [
       "Index(['date', 'number_of_strikes', 'center_point_geom'], dtype='object')"
      ]
     },
     "execution_count": 5,
     "metadata": {},
     "output_type": "execute_result"
    }
   ],
   "execution_count": 5
  },
  {
   "metadata": {
    "ExecuteTime": {
     "end_time": "2025-04-18T11:05:28.331287Z",
     "start_time": "2025-04-18T11:05:28.321999Z"
    }
   },
   "cell_type": "code",
   "source": "df.shape",
   "id": "f1096e22af7f342c",
   "outputs": [
    {
     "data": {
      "text/plain": [
       "(3401012, 3)"
      ]
     },
     "execution_count": 6,
     "metadata": {},
     "output_type": "execute_result"
    }
   ],
   "execution_count": 6
  },
  {
   "metadata": {
    "ExecuteTime": {
     "end_time": "2025-04-18T11:05:28.652975Z",
     "start_time": "2025-04-18T11:05:28.479354Z"
    }
   },
   "cell_type": "code",
   "source": "df.describe()",
   "id": "16e3025723c56f19",
   "outputs": [
    {
     "data": {
      "text/plain": [
       "       number_of_strikes\n",
       "count       3.401012e+06\n",
       "mean        1.311403e+01\n",
       "std         3.212099e+01\n",
       "min         1.000000e+00\n",
       "25%         2.000000e+00\n",
       "50%         4.000000e+00\n",
       "75%         1.200000e+01\n",
       "max         2.211000e+03"
      ],
      "text/html": [
       "<div>\n",
       "<style scoped>\n",
       "    .dataframe tbody tr th:only-of-type {\n",
       "        vertical-align: middle;\n",
       "    }\n",
       "\n",
       "    .dataframe tbody tr th {\n",
       "        vertical-align: top;\n",
       "    }\n",
       "\n",
       "    .dataframe thead th {\n",
       "        text-align: right;\n",
       "    }\n",
       "</style>\n",
       "<table border=\"1\" class=\"dataframe\">\n",
       "  <thead>\n",
       "    <tr style=\"text-align: right;\">\n",
       "      <th></th>\n",
       "      <th>number_of_strikes</th>\n",
       "    </tr>\n",
       "  </thead>\n",
       "  <tbody>\n",
       "    <tr>\n",
       "      <th>count</th>\n",
       "      <td>3.401012e+06</td>\n",
       "    </tr>\n",
       "    <tr>\n",
       "      <th>mean</th>\n",
       "      <td>1.311403e+01</td>\n",
       "    </tr>\n",
       "    <tr>\n",
       "      <th>std</th>\n",
       "      <td>3.212099e+01</td>\n",
       "    </tr>\n",
       "    <tr>\n",
       "      <th>min</th>\n",
       "      <td>1.000000e+00</td>\n",
       "    </tr>\n",
       "    <tr>\n",
       "      <th>25%</th>\n",
       "      <td>2.000000e+00</td>\n",
       "    </tr>\n",
       "    <tr>\n",
       "      <th>50%</th>\n",
       "      <td>4.000000e+00</td>\n",
       "    </tr>\n",
       "    <tr>\n",
       "      <th>75%</th>\n",
       "      <td>1.200000e+01</td>\n",
       "    </tr>\n",
       "    <tr>\n",
       "      <th>max</th>\n",
       "      <td>2.211000e+03</td>\n",
       "    </tr>\n",
       "  </tbody>\n",
       "</table>\n",
       "</div>"
      ]
     },
     "execution_count": 7,
     "metadata": {},
     "output_type": "execute_result"
    }
   ],
   "execution_count": 7
  },
  {
   "metadata": {
    "ExecuteTime": {
     "end_time": "2025-04-18T11:06:23.153280Z",
     "start_time": "2025-04-18T11:06:23.131174Z"
    }
   },
   "cell_type": "code",
   "source": "df['number_of_strikes'].agg('mean')",
   "id": "4d141772ae7d2c7f",
   "outputs": [
    {
     "data": {
      "text/plain": [
       "np.float64(13.114034587352235)"
      ]
     },
     "execution_count": 9,
     "metadata": {},
     "output_type": "execute_result"
    }
   ],
   "execution_count": 9
  },
  {
   "metadata": {
    "ExecuteTime": {
     "end_time": "2025-04-18T11:07:33.385859Z",
     "start_time": "2025-04-18T11:07:33.331999Z"
    }
   },
   "cell_type": "code",
   "source": "df['number_of_strikes'].agg(['std','min','max'])",
   "id": "8b901c528d4569f5",
   "outputs": [
    {
     "data": {
      "text/plain": [
       "std      32.120992\n",
       "min       1.000000\n",
       "max    2211.000000\n",
       "Name: number_of_strikes, dtype: float64"
      ]
     },
     "execution_count": 13,
     "metadata": {},
     "output_type": "execute_result"
    }
   ],
   "execution_count": 13
  },
  {
   "metadata": {
    "ExecuteTime": {
     "end_time": "2025-04-18T11:09:01.522169Z",
     "start_time": "2025-04-18T11:09:01.164632Z"
    }
   },
   "cell_type": "code",
   "source": [
    "# Handling missing values\n",
    "df.isnull()"
   ],
   "id": "dcba32814cc1da85",
   "outputs": [
    {
     "data": {
      "text/plain": [
       "          date  number_of_strikes  center_point_geom\n",
       "0        False              False              False\n",
       "1        False              False              False\n",
       "2        False              False              False\n",
       "3        False              False              False\n",
       "4        False              False              False\n",
       "...        ...                ...                ...\n",
       "3401007  False              False              False\n",
       "3401008  False              False              False\n",
       "3401009  False              False              False\n",
       "3401010  False              False              False\n",
       "3401011  False              False              False\n",
       "\n",
       "[3401012 rows x 3 columns]"
      ],
      "text/html": [
       "<div>\n",
       "<style scoped>\n",
       "    .dataframe tbody tr th:only-of-type {\n",
       "        vertical-align: middle;\n",
       "    }\n",
       "\n",
       "    .dataframe tbody tr th {\n",
       "        vertical-align: top;\n",
       "    }\n",
       "\n",
       "    .dataframe thead th {\n",
       "        text-align: right;\n",
       "    }\n",
       "</style>\n",
       "<table border=\"1\" class=\"dataframe\">\n",
       "  <thead>\n",
       "    <tr style=\"text-align: right;\">\n",
       "      <th></th>\n",
       "      <th>date</th>\n",
       "      <th>number_of_strikes</th>\n",
       "      <th>center_point_geom</th>\n",
       "    </tr>\n",
       "  </thead>\n",
       "  <tbody>\n",
       "    <tr>\n",
       "      <th>0</th>\n",
       "      <td>False</td>\n",
       "      <td>False</td>\n",
       "      <td>False</td>\n",
       "    </tr>\n",
       "    <tr>\n",
       "      <th>1</th>\n",
       "      <td>False</td>\n",
       "      <td>False</td>\n",
       "      <td>False</td>\n",
       "    </tr>\n",
       "    <tr>\n",
       "      <th>2</th>\n",
       "      <td>False</td>\n",
       "      <td>False</td>\n",
       "      <td>False</td>\n",
       "    </tr>\n",
       "    <tr>\n",
       "      <th>3</th>\n",
       "      <td>False</td>\n",
       "      <td>False</td>\n",
       "      <td>False</td>\n",
       "    </tr>\n",
       "    <tr>\n",
       "      <th>4</th>\n",
       "      <td>False</td>\n",
       "      <td>False</td>\n",
       "      <td>False</td>\n",
       "    </tr>\n",
       "    <tr>\n",
       "      <th>...</th>\n",
       "      <td>...</td>\n",
       "      <td>...</td>\n",
       "      <td>...</td>\n",
       "    </tr>\n",
       "    <tr>\n",
       "      <th>3401007</th>\n",
       "      <td>False</td>\n",
       "      <td>False</td>\n",
       "      <td>False</td>\n",
       "    </tr>\n",
       "    <tr>\n",
       "      <th>3401008</th>\n",
       "      <td>False</td>\n",
       "      <td>False</td>\n",
       "      <td>False</td>\n",
       "    </tr>\n",
       "    <tr>\n",
       "      <th>3401009</th>\n",
       "      <td>False</td>\n",
       "      <td>False</td>\n",
       "      <td>False</td>\n",
       "    </tr>\n",
       "    <tr>\n",
       "      <th>3401010</th>\n",
       "      <td>False</td>\n",
       "      <td>False</td>\n",
       "      <td>False</td>\n",
       "    </tr>\n",
       "    <tr>\n",
       "      <th>3401011</th>\n",
       "      <td>False</td>\n",
       "      <td>False</td>\n",
       "      <td>False</td>\n",
       "    </tr>\n",
       "  </tbody>\n",
       "</table>\n",
       "<p>3401012 rows × 3 columns</p>\n",
       "</div>"
      ]
     },
     "execution_count": 16,
     "metadata": {},
     "output_type": "execute_result"
    }
   ],
   "execution_count": 16
  },
  {
   "metadata": {
    "ExecuteTime": {
     "end_time": "2025-04-18T11:12:56.952460Z",
     "start_time": "2025-04-18T11:12:56.593233Z"
    }
   },
   "cell_type": "code",
   "source": [
    "# show the rows with atleast one missing value\n",
    "df[df.isnull().any(axis=1)]"
   ],
   "id": "6a2363cd4ba7a507",
   "outputs": [
    {
     "data": {
      "text/plain": [
       "Empty DataFrame\n",
       "Columns: [date, number_of_strikes, center_point_geom]\n",
       "Index: []"
      ],
      "text/html": [
       "<div>\n",
       "<style scoped>\n",
       "    .dataframe tbody tr th:only-of-type {\n",
       "        vertical-align: middle;\n",
       "    }\n",
       "\n",
       "    .dataframe tbody tr th {\n",
       "        vertical-align: top;\n",
       "    }\n",
       "\n",
       "    .dataframe thead th {\n",
       "        text-align: right;\n",
       "    }\n",
       "</style>\n",
       "<table border=\"1\" class=\"dataframe\">\n",
       "  <thead>\n",
       "    <tr style=\"text-align: right;\">\n",
       "      <th></th>\n",
       "      <th>date</th>\n",
       "      <th>number_of_strikes</th>\n",
       "      <th>center_point_geom</th>\n",
       "    </tr>\n",
       "  </thead>\n",
       "  <tbody>\n",
       "  </tbody>\n",
       "</table>\n",
       "</div>"
      ]
     },
     "execution_count": 19,
     "metadata": {},
     "output_type": "execute_result"
    }
   ],
   "execution_count": 19
  },
  {
   "metadata": {
    "ExecuteTime": {
     "end_time": "2025-04-18T11:14:17.290624Z",
     "start_time": "2025-04-18T11:14:17.268579Z"
    }
   },
   "cell_type": "code",
   "source": "df[df['number_of_strikes']>100]",
   "id": "fdc2897ecaddadc",
   "outputs": [
    {
     "data": {
      "text/plain": [
       "              date  number_of_strikes  center_point_geom\n",
       "0       2018-01-03                194      POINT(-75 27)\n",
       "5       2018-01-03                119      POINT(-78 28)\n",
       "9       2018-01-03                119    POINT(-78.6 28)\n",
       "10      2018-01-03                107    POINT(-78.5 28)\n",
       "11      2018-01-03                158    POINT(-78.4 28)\n",
       "...            ...                ...                ...\n",
       "404522  2018-12-27                115  POINT(-92.8 30.1)\n",
       "404526  2018-12-27                118  POINT(-93.2 29.9)\n",
       "404527  2018-12-27                102  POINT(-93.1 29.9)\n",
       "404600  2018-12-27                102  POINT(-91.8 30.5)\n",
       "404611  2018-12-27                111  POINT(-91.9 30.4)\n",
       "\n",
       "[64813 rows x 3 columns]"
      ],
      "text/html": [
       "<div>\n",
       "<style scoped>\n",
       "    .dataframe tbody tr th:only-of-type {\n",
       "        vertical-align: middle;\n",
       "    }\n",
       "\n",
       "    .dataframe tbody tr th {\n",
       "        vertical-align: top;\n",
       "    }\n",
       "\n",
       "    .dataframe thead th {\n",
       "        text-align: right;\n",
       "    }\n",
       "</style>\n",
       "<table border=\"1\" class=\"dataframe\">\n",
       "  <thead>\n",
       "    <tr style=\"text-align: right;\">\n",
       "      <th></th>\n",
       "      <th>date</th>\n",
       "      <th>number_of_strikes</th>\n",
       "      <th>center_point_geom</th>\n",
       "    </tr>\n",
       "  </thead>\n",
       "  <tbody>\n",
       "    <tr>\n",
       "      <th>0</th>\n",
       "      <td>2018-01-03</td>\n",
       "      <td>194</td>\n",
       "      <td>POINT(-75 27)</td>\n",
       "    </tr>\n",
       "    <tr>\n",
       "      <th>5</th>\n",
       "      <td>2018-01-03</td>\n",
       "      <td>119</td>\n",
       "      <td>POINT(-78 28)</td>\n",
       "    </tr>\n",
       "    <tr>\n",
       "      <th>9</th>\n",
       "      <td>2018-01-03</td>\n",
       "      <td>119</td>\n",
       "      <td>POINT(-78.6 28)</td>\n",
       "    </tr>\n",
       "    <tr>\n",
       "      <th>10</th>\n",
       "      <td>2018-01-03</td>\n",
       "      <td>107</td>\n",
       "      <td>POINT(-78.5 28)</td>\n",
       "    </tr>\n",
       "    <tr>\n",
       "      <th>11</th>\n",
       "      <td>2018-01-03</td>\n",
       "      <td>158</td>\n",
       "      <td>POINT(-78.4 28)</td>\n",
       "    </tr>\n",
       "    <tr>\n",
       "      <th>...</th>\n",
       "      <td>...</td>\n",
       "      <td>...</td>\n",
       "      <td>...</td>\n",
       "    </tr>\n",
       "    <tr>\n",
       "      <th>404522</th>\n",
       "      <td>2018-12-27</td>\n",
       "      <td>115</td>\n",
       "      <td>POINT(-92.8 30.1)</td>\n",
       "    </tr>\n",
       "    <tr>\n",
       "      <th>404526</th>\n",
       "      <td>2018-12-27</td>\n",
       "      <td>118</td>\n",
       "      <td>POINT(-93.2 29.9)</td>\n",
       "    </tr>\n",
       "    <tr>\n",
       "      <th>404527</th>\n",
       "      <td>2018-12-27</td>\n",
       "      <td>102</td>\n",
       "      <td>POINT(-93.1 29.9)</td>\n",
       "    </tr>\n",
       "    <tr>\n",
       "      <th>404600</th>\n",
       "      <td>2018-12-27</td>\n",
       "      <td>102</td>\n",
       "      <td>POINT(-91.8 30.5)</td>\n",
       "    </tr>\n",
       "    <tr>\n",
       "      <th>404611</th>\n",
       "      <td>2018-12-27</td>\n",
       "      <td>111</td>\n",
       "      <td>POINT(-91.9 30.4)</td>\n",
       "    </tr>\n",
       "  </tbody>\n",
       "</table>\n",
       "<p>64813 rows × 3 columns</p>\n",
       "</div>"
      ]
     },
     "execution_count": 20,
     "metadata": {},
     "output_type": "execute_result"
    }
   ],
   "execution_count": 20
  },
  {
   "metadata": {
    "ExecuteTime": {
     "end_time": "2025-04-18T11:15:54.614039Z",
     "start_time": "2025-04-18T11:15:54.148642Z"
    }
   },
   "cell_type": "code",
   "source": [
    "# Convert to datetime\n",
    "df['date'] = pd.to_datetime(df['date'])"
   ],
   "id": "3c78dae050d33bf6",
   "outputs": [],
   "execution_count": 21
  },
  {
   "metadata": {
    "ExecuteTime": {
     "end_time": "2025-04-18T11:15:57.647474Z",
     "start_time": "2025-04-18T11:15:57.628730Z"
    }
   },
   "cell_type": "code",
   "source": "df.info()",
   "id": "9d859656a9ab0573",
   "outputs": [
    {
     "name": "stdout",
     "output_type": "stream",
     "text": [
      "<class 'pandas.core.frame.DataFrame'>\n",
      "RangeIndex: 3401012 entries, 0 to 3401011\n",
      "Data columns (total 3 columns):\n",
      " #   Column             Dtype         \n",
      "---  ------             -----         \n",
      " 0   date               datetime64[ns]\n",
      " 1   number_of_strikes  int64         \n",
      " 2   center_point_geom  object        \n",
      "dtypes: datetime64[ns](1), int64(1), object(1)\n",
      "memory usage: 77.8+ MB\n"
     ]
    }
   ],
   "execution_count": 22
  },
  {
   "metadata": {
    "ExecuteTime": {
     "end_time": "2025-04-18T11:16:52.020733Z",
     "start_time": "2025-04-18T11:16:51.741728Z"
    }
   },
   "cell_type": "code",
   "source": [
    "df['year'] = df['date'].dt.year\n",
    "df['month'] = df['date'].dt.month"
   ],
   "id": "331be4a61f5b27eb",
   "outputs": [],
   "execution_count": 23
  },
  {
   "metadata": {
    "ExecuteTime": {
     "end_time": "2025-04-18T11:16:52.843890Z",
     "start_time": "2025-04-18T11:16:52.826396Z"
    }
   },
   "cell_type": "code",
   "source": "df",
   "id": "314a3831b518ff3a",
   "outputs": [
    {
     "data": {
      "text/plain": [
       "              date  number_of_strikes  center_point_geom  year  month\n",
       "0       2018-01-03                194      POINT(-75 27)  2018      1\n",
       "1       2018-01-03                 41    POINT(-78.4 29)  2018      1\n",
       "2       2018-01-03                 33    POINT(-73.9 27)  2018      1\n",
       "3       2018-01-03                 38    POINT(-73.8 27)  2018      1\n",
       "4       2018-01-03                 92      POINT(-79 28)  2018      1\n",
       "...            ...                ...                ...   ...    ...\n",
       "3401007 2018-12-28                 30  POINT(-90.6 28.7)  2018     12\n",
       "3401008 2018-12-28                 30  POINT(-89.4 30.9)  2018     12\n",
       "3401009 2018-12-28                 30  POINT(-89.5 31.4)  2018     12\n",
       "3401010 2018-12-28                 30  POINT(-88.3 31.6)  2018     12\n",
       "3401011 2018-12-28                 30  POINT(-88.4 32.1)  2018     12\n",
       "\n",
       "[3401012 rows x 5 columns]"
      ],
      "text/html": [
       "<div>\n",
       "<style scoped>\n",
       "    .dataframe tbody tr th:only-of-type {\n",
       "        vertical-align: middle;\n",
       "    }\n",
       "\n",
       "    .dataframe tbody tr th {\n",
       "        vertical-align: top;\n",
       "    }\n",
       "\n",
       "    .dataframe thead th {\n",
       "        text-align: right;\n",
       "    }\n",
       "</style>\n",
       "<table border=\"1\" class=\"dataframe\">\n",
       "  <thead>\n",
       "    <tr style=\"text-align: right;\">\n",
       "      <th></th>\n",
       "      <th>date</th>\n",
       "      <th>number_of_strikes</th>\n",
       "      <th>center_point_geom</th>\n",
       "      <th>year</th>\n",
       "      <th>month</th>\n",
       "    </tr>\n",
       "  </thead>\n",
       "  <tbody>\n",
       "    <tr>\n",
       "      <th>0</th>\n",
       "      <td>2018-01-03</td>\n",
       "      <td>194</td>\n",
       "      <td>POINT(-75 27)</td>\n",
       "      <td>2018</td>\n",
       "      <td>1</td>\n",
       "    </tr>\n",
       "    <tr>\n",
       "      <th>1</th>\n",
       "      <td>2018-01-03</td>\n",
       "      <td>41</td>\n",
       "      <td>POINT(-78.4 29)</td>\n",
       "      <td>2018</td>\n",
       "      <td>1</td>\n",
       "    </tr>\n",
       "    <tr>\n",
       "      <th>2</th>\n",
       "      <td>2018-01-03</td>\n",
       "      <td>33</td>\n",
       "      <td>POINT(-73.9 27)</td>\n",
       "      <td>2018</td>\n",
       "      <td>1</td>\n",
       "    </tr>\n",
       "    <tr>\n",
       "      <th>3</th>\n",
       "      <td>2018-01-03</td>\n",
       "      <td>38</td>\n",
       "      <td>POINT(-73.8 27)</td>\n",
       "      <td>2018</td>\n",
       "      <td>1</td>\n",
       "    </tr>\n",
       "    <tr>\n",
       "      <th>4</th>\n",
       "      <td>2018-01-03</td>\n",
       "      <td>92</td>\n",
       "      <td>POINT(-79 28)</td>\n",
       "      <td>2018</td>\n",
       "      <td>1</td>\n",
       "    </tr>\n",
       "    <tr>\n",
       "      <th>...</th>\n",
       "      <td>...</td>\n",
       "      <td>...</td>\n",
       "      <td>...</td>\n",
       "      <td>...</td>\n",
       "      <td>...</td>\n",
       "    </tr>\n",
       "    <tr>\n",
       "      <th>3401007</th>\n",
       "      <td>2018-12-28</td>\n",
       "      <td>30</td>\n",
       "      <td>POINT(-90.6 28.7)</td>\n",
       "      <td>2018</td>\n",
       "      <td>12</td>\n",
       "    </tr>\n",
       "    <tr>\n",
       "      <th>3401008</th>\n",
       "      <td>2018-12-28</td>\n",
       "      <td>30</td>\n",
       "      <td>POINT(-89.4 30.9)</td>\n",
       "      <td>2018</td>\n",
       "      <td>12</td>\n",
       "    </tr>\n",
       "    <tr>\n",
       "      <th>3401009</th>\n",
       "      <td>2018-12-28</td>\n",
       "      <td>30</td>\n",
       "      <td>POINT(-89.5 31.4)</td>\n",
       "      <td>2018</td>\n",
       "      <td>12</td>\n",
       "    </tr>\n",
       "    <tr>\n",
       "      <th>3401010</th>\n",
       "      <td>2018-12-28</td>\n",
       "      <td>30</td>\n",
       "      <td>POINT(-88.3 31.6)</td>\n",
       "      <td>2018</td>\n",
       "      <td>12</td>\n",
       "    </tr>\n",
       "    <tr>\n",
       "      <th>3401011</th>\n",
       "      <td>2018-12-28</td>\n",
       "      <td>30</td>\n",
       "      <td>POINT(-88.4 32.1)</td>\n",
       "      <td>2018</td>\n",
       "      <td>12</td>\n",
       "    </tr>\n",
       "  </tbody>\n",
       "</table>\n",
       "<p>3401012 rows × 5 columns</p>\n",
       "</div>"
      ]
     },
     "execution_count": 24,
     "metadata": {},
     "output_type": "execute_result"
    }
   ],
   "execution_count": 24
  },
  {
   "metadata": {
    "ExecuteTime": {
     "end_time": "2025-04-18T11:16:57.472089Z",
     "start_time": "2025-04-18T11:16:57.458965Z"
    }
   },
   "cell_type": "code",
   "source": "df.info()",
   "id": "203cd0f568bca16f",
   "outputs": [
    {
     "name": "stdout",
     "output_type": "stream",
     "text": [
      "<class 'pandas.core.frame.DataFrame'>\n",
      "RangeIndex: 3401012 entries, 0 to 3401011\n",
      "Data columns (total 5 columns):\n",
      " #   Column             Dtype         \n",
      "---  ------             -----         \n",
      " 0   date               datetime64[ns]\n",
      " 1   number_of_strikes  int64         \n",
      " 2   center_point_geom  object        \n",
      " 3   year               int32         \n",
      " 4   month              int32         \n",
      "dtypes: datetime64[ns](1), int32(2), int64(1), object(1)\n",
      "memory usage: 103.8+ MB\n"
     ]
    }
   ],
   "execution_count": 25
  },
  {
   "metadata": {
    "ExecuteTime": {
     "end_time": "2025-04-18T11:23:10.951028Z",
     "start_time": "2025-04-18T11:23:10.706937Z"
    }
   },
   "cell_type": "code",
   "source": [
    "# Group by\n",
    "df.groupby(['year']).sum(numeric_only=True)['number_of_strikes']"
   ],
   "id": "79754b988370a914",
   "outputs": [
    {
     "data": {
      "text/plain": [
       "year\n",
       "2018    44600989\n",
       "Name: number_of_strikes, dtype: int64"
      ]
     },
     "execution_count": 33,
     "metadata": {},
     "output_type": "execute_result"
    }
   ],
   "execution_count": 33
  },
  {
   "metadata": {
    "ExecuteTime": {
     "end_time": "2025-04-18T11:23:22.810585Z",
     "start_time": "2025-04-18T11:23:22.614957Z"
    }
   },
   "cell_type": "code",
   "source": "df.groupby(['month']).sum(numeric_only=True)['number_of_strikes']",
   "id": "fd9ba2e51763cb2c",
   "outputs": [
    {
     "data": {
      "text/plain": [
       "month\n",
       "1       860045\n",
       "2      2071315\n",
       "3       854168\n",
       "4      1524339\n",
       "5      4166726\n",
       "6      6445083\n",
       "7      8320400\n",
       "8     15525255\n",
       "9      3018336\n",
       "10     1093962\n",
       "11      409263\n",
       "12      312097\n",
       "Name: number_of_strikes, dtype: int64"
      ]
     },
     "execution_count": 35,
     "metadata": {},
     "output_type": "execute_result"
    }
   ],
   "execution_count": 35
  },
  {
   "metadata": {
    "ExecuteTime": {
     "end_time": "2025-04-18T11:27:06.071432Z",
     "start_time": "2025-04-18T11:27:05.533660Z"
    }
   },
   "cell_type": "code",
   "source": [
    "# 2 ways of sorting\n",
    "df.sort_values(['number_of_strikes'],ascending=False), df['number_of_strikes'].sort_values(ascending=False)"
   ],
   "id": "fbaf02a4923f33c4",
   "outputs": [
    {
     "data": {
      "text/plain": [
       "(             date  number_of_strikes  center_point_geom  year  month\n",
       " 302758 2018-08-20               2211  POINT(-92.5 35.5)  2018      8\n",
       " 278383 2018-08-16               2142  POINT(-96.1 36.1)  2018      8\n",
       " 280830 2018-08-17               2061  POINT(-90.2 36.1)  2018      8\n",
       " 280453 2018-08-17               2031  POINT(-89.9 35.9)  2018      8\n",
       " 278382 2018-08-16               1902  POINT(-96.2 36.1)  2018      8\n",
       " ...           ...                ...                ...   ...    ...\n",
       " 404728 2018-01-01                  1  POINT(-93.5 20.3)  2018      1\n",
       " 404727 2018-01-01                  1  POINT(-94.9 20.3)  2018      1\n",
       " 404726 2018-01-01                  1  POINT(-94.9 20.2)  2018      1\n",
       " 404725 2018-01-01                  1    POINT(-76 18.4)  2018      1\n",
       " 404724 2018-01-01                  1    POINT(-58.5 40)  2018      1\n",
       " \n",
       " [3401012 rows x 5 columns],\n",
       " 302758    2211\n",
       " 278383    2142\n",
       " 280830    2061\n",
       " 280453    2031\n",
       " 278382    1902\n",
       "           ... \n",
       " 404728       1\n",
       " 404727       1\n",
       " 404726       1\n",
       " 404725       1\n",
       " 404724       1\n",
       " Name: number_of_strikes, Length: 3401012, dtype: int64)"
      ]
     },
     "execution_count": 39,
     "metadata": {},
     "output_type": "execute_result"
    }
   ],
   "execution_count": 39
  },
  {
   "metadata": {
    "ExecuteTime": {
     "end_time": "2025-04-18T11:28:51.102916Z",
     "start_time": "2025-04-18T11:28:50.890294Z"
    }
   },
   "cell_type": "code",
   "source": "df.groupby(['month','year']).sum(numeric_only=True).sort_values('number_of_strikes',ascending=True)",
   "id": "33fda58218174f5",
   "outputs": [
    {
     "data": {
      "text/plain": [
       "            number_of_strikes\n",
       "month year                   \n",
       "12    2018             312097\n",
       "11    2018             409263\n",
       "3     2018             854168\n",
       "1     2018             860045\n",
       "10    2018            1093962\n",
       "4     2018            1524339\n",
       "2     2018            2071315\n",
       "9     2018            3018336\n",
       "5     2018            4166726\n",
       "6     2018            6445083\n",
       "7     2018            8320400\n",
       "8     2018           15525255"
      ],
      "text/html": [
       "<div>\n",
       "<style scoped>\n",
       "    .dataframe tbody tr th:only-of-type {\n",
       "        vertical-align: middle;\n",
       "    }\n",
       "\n",
       "    .dataframe tbody tr th {\n",
       "        vertical-align: top;\n",
       "    }\n",
       "\n",
       "    .dataframe thead th {\n",
       "        text-align: right;\n",
       "    }\n",
       "</style>\n",
       "<table border=\"1\" class=\"dataframe\">\n",
       "  <thead>\n",
       "    <tr style=\"text-align: right;\">\n",
       "      <th></th>\n",
       "      <th></th>\n",
       "      <th>number_of_strikes</th>\n",
       "    </tr>\n",
       "    <tr>\n",
       "      <th>month</th>\n",
       "      <th>year</th>\n",
       "      <th></th>\n",
       "    </tr>\n",
       "  </thead>\n",
       "  <tbody>\n",
       "    <tr>\n",
       "      <th>12</th>\n",
       "      <th>2018</th>\n",
       "      <td>312097</td>\n",
       "    </tr>\n",
       "    <tr>\n",
       "      <th>11</th>\n",
       "      <th>2018</th>\n",
       "      <td>409263</td>\n",
       "    </tr>\n",
       "    <tr>\n",
       "      <th>3</th>\n",
       "      <th>2018</th>\n",
       "      <td>854168</td>\n",
       "    </tr>\n",
       "    <tr>\n",
       "      <th>1</th>\n",
       "      <th>2018</th>\n",
       "      <td>860045</td>\n",
       "    </tr>\n",
       "    <tr>\n",
       "      <th>10</th>\n",
       "      <th>2018</th>\n",
       "      <td>1093962</td>\n",
       "    </tr>\n",
       "    <tr>\n",
       "      <th>4</th>\n",
       "      <th>2018</th>\n",
       "      <td>1524339</td>\n",
       "    </tr>\n",
       "    <tr>\n",
       "      <th>2</th>\n",
       "      <th>2018</th>\n",
       "      <td>2071315</td>\n",
       "    </tr>\n",
       "    <tr>\n",
       "      <th>9</th>\n",
       "      <th>2018</th>\n",
       "      <td>3018336</td>\n",
       "    </tr>\n",
       "    <tr>\n",
       "      <th>5</th>\n",
       "      <th>2018</th>\n",
       "      <td>4166726</td>\n",
       "    </tr>\n",
       "    <tr>\n",
       "      <th>6</th>\n",
       "      <th>2018</th>\n",
       "      <td>6445083</td>\n",
       "    </tr>\n",
       "    <tr>\n",
       "      <th>7</th>\n",
       "      <th>2018</th>\n",
       "      <td>8320400</td>\n",
       "    </tr>\n",
       "    <tr>\n",
       "      <th>8</th>\n",
       "      <th>2018</th>\n",
       "      <td>15525255</td>\n",
       "    </tr>\n",
       "  </tbody>\n",
       "</table>\n",
       "</div>"
      ]
     },
     "execution_count": 45,
     "metadata": {},
     "output_type": "execute_result"
    }
   ],
   "execution_count": 45
  },
  {
   "metadata": {
    "ExecuteTime": {
     "end_time": "2025-04-18T11:29:30.245192Z",
     "start_time": "2025-04-18T11:29:30.229673Z"
    }
   },
   "cell_type": "code",
   "source": [
    "# String Manipulation\n",
    "df"
   ],
   "id": "1693a64d7d79ebf6",
   "outputs": [
    {
     "data": {
      "text/plain": [
       "              date  number_of_strikes  center_point_geom  year  month\n",
       "0       2018-01-03                194      POINT(-75 27)  2018      1\n",
       "1       2018-01-03                 41    POINT(-78.4 29)  2018      1\n",
       "2       2018-01-03                 33    POINT(-73.9 27)  2018      1\n",
       "3       2018-01-03                 38    POINT(-73.8 27)  2018      1\n",
       "4       2018-01-03                 92      POINT(-79 28)  2018      1\n",
       "...            ...                ...                ...   ...    ...\n",
       "3401007 2018-12-28                 30  POINT(-90.6 28.7)  2018     12\n",
       "3401008 2018-12-28                 30  POINT(-89.4 30.9)  2018     12\n",
       "3401009 2018-12-28                 30  POINT(-89.5 31.4)  2018     12\n",
       "3401010 2018-12-28                 30  POINT(-88.3 31.6)  2018     12\n",
       "3401011 2018-12-28                 30  POINT(-88.4 32.1)  2018     12\n",
       "\n",
       "[3401012 rows x 5 columns]"
      ],
      "text/html": [
       "<div>\n",
       "<style scoped>\n",
       "    .dataframe tbody tr th:only-of-type {\n",
       "        vertical-align: middle;\n",
       "    }\n",
       "\n",
       "    .dataframe tbody tr th {\n",
       "        vertical-align: top;\n",
       "    }\n",
       "\n",
       "    .dataframe thead th {\n",
       "        text-align: right;\n",
       "    }\n",
       "</style>\n",
       "<table border=\"1\" class=\"dataframe\">\n",
       "  <thead>\n",
       "    <tr style=\"text-align: right;\">\n",
       "      <th></th>\n",
       "      <th>date</th>\n",
       "      <th>number_of_strikes</th>\n",
       "      <th>center_point_geom</th>\n",
       "      <th>year</th>\n",
       "      <th>month</th>\n",
       "    </tr>\n",
       "  </thead>\n",
       "  <tbody>\n",
       "    <tr>\n",
       "      <th>0</th>\n",
       "      <td>2018-01-03</td>\n",
       "      <td>194</td>\n",
       "      <td>POINT(-75 27)</td>\n",
       "      <td>2018</td>\n",
       "      <td>1</td>\n",
       "    </tr>\n",
       "    <tr>\n",
       "      <th>1</th>\n",
       "      <td>2018-01-03</td>\n",
       "      <td>41</td>\n",
       "      <td>POINT(-78.4 29)</td>\n",
       "      <td>2018</td>\n",
       "      <td>1</td>\n",
       "    </tr>\n",
       "    <tr>\n",
       "      <th>2</th>\n",
       "      <td>2018-01-03</td>\n",
       "      <td>33</td>\n",
       "      <td>POINT(-73.9 27)</td>\n",
       "      <td>2018</td>\n",
       "      <td>1</td>\n",
       "    </tr>\n",
       "    <tr>\n",
       "      <th>3</th>\n",
       "      <td>2018-01-03</td>\n",
       "      <td>38</td>\n",
       "      <td>POINT(-73.8 27)</td>\n",
       "      <td>2018</td>\n",
       "      <td>1</td>\n",
       "    </tr>\n",
       "    <tr>\n",
       "      <th>4</th>\n",
       "      <td>2018-01-03</td>\n",
       "      <td>92</td>\n",
       "      <td>POINT(-79 28)</td>\n",
       "      <td>2018</td>\n",
       "      <td>1</td>\n",
       "    </tr>\n",
       "    <tr>\n",
       "      <th>...</th>\n",
       "      <td>...</td>\n",
       "      <td>...</td>\n",
       "      <td>...</td>\n",
       "      <td>...</td>\n",
       "      <td>...</td>\n",
       "    </tr>\n",
       "    <tr>\n",
       "      <th>3401007</th>\n",
       "      <td>2018-12-28</td>\n",
       "      <td>30</td>\n",
       "      <td>POINT(-90.6 28.7)</td>\n",
       "      <td>2018</td>\n",
       "      <td>12</td>\n",
       "    </tr>\n",
       "    <tr>\n",
       "      <th>3401008</th>\n",
       "      <td>2018-12-28</td>\n",
       "      <td>30</td>\n",
       "      <td>POINT(-89.4 30.9)</td>\n",
       "      <td>2018</td>\n",
       "      <td>12</td>\n",
       "    </tr>\n",
       "    <tr>\n",
       "      <th>3401009</th>\n",
       "      <td>2018-12-28</td>\n",
       "      <td>30</td>\n",
       "      <td>POINT(-89.5 31.4)</td>\n",
       "      <td>2018</td>\n",
       "      <td>12</td>\n",
       "    </tr>\n",
       "    <tr>\n",
       "      <th>3401010</th>\n",
       "      <td>2018-12-28</td>\n",
       "      <td>30</td>\n",
       "      <td>POINT(-88.3 31.6)</td>\n",
       "      <td>2018</td>\n",
       "      <td>12</td>\n",
       "    </tr>\n",
       "    <tr>\n",
       "      <th>3401011</th>\n",
       "      <td>2018-12-28</td>\n",
       "      <td>30</td>\n",
       "      <td>POINT(-88.4 32.1)</td>\n",
       "      <td>2018</td>\n",
       "      <td>12</td>\n",
       "    </tr>\n",
       "  </tbody>\n",
       "</table>\n",
       "<p>3401012 rows × 5 columns</p>\n",
       "</div>"
      ]
     },
     "execution_count": 47,
     "metadata": {},
     "output_type": "execute_result"
    }
   ],
   "execution_count": 47
  },
  {
   "metadata": {
    "ExecuteTime": {
     "end_time": "2025-04-18T11:41:44.784586Z",
     "start_time": "2025-04-18T11:41:05.466225Z"
    }
   },
   "cell_type": "code",
   "source": [
    "def process_center_point_geom(row):\n",
    "    row=row.strip()\n",
    "    row = row[6:]\n",
    "    row = row[:-1]\n",
    "    ans = row.split()\n",
    "    return pd.Series([float(ans[0]),float(ans[1])])\n",
    "\n",
    "df[['latitude','longitude']]=df['center_point_geom'].apply(process_center_ponit_geom)"
   ],
   "id": "ecd07a6091f7aeb0",
   "outputs": [
    {
     "ename": "KeyboardInterrupt",
     "evalue": "",
     "output_type": "error",
     "traceback": [
      "\u001B[31m---------------------------------------------------------------------------\u001B[39m",
      "\u001B[31mKeyboardInterrupt\u001B[39m                         Traceback (most recent call last)",
      "    \u001B[31m[... skipping hidden 1 frame]\u001B[39m\n",
      "\u001B[36mCell\u001B[39m\u001B[36m \u001B[39m\u001B[32mIn[73]\u001B[39m\u001B[32m, line 8\u001B[39m\n\u001B[32m      6\u001B[39m     \u001B[38;5;28;01mreturn\u001B[39;00m pd.Series([\u001B[38;5;28mfloat\u001B[39m(ans[\u001B[32m0\u001B[39m]),\u001B[38;5;28mfloat\u001B[39m(ans[\u001B[32m1\u001B[39m])])\n\u001B[32m----> \u001B[39m\u001B[32m8\u001B[39m df[[\u001B[33m'\u001B[39m\u001B[33mlatitude\u001B[39m\u001B[33m'\u001B[39m,\u001B[33m'\u001B[39m\u001B[33mlongitude\u001B[39m\u001B[33m'\u001B[39m]]=\u001B[43mdf\u001B[49m\u001B[43m[\u001B[49m\u001B[33;43m'\u001B[39;49m\u001B[33;43mcenter_point_geom\u001B[39;49m\u001B[33;43m'\u001B[39;49m\u001B[43m]\u001B[49m\u001B[43m.\u001B[49m\u001B[43mapply\u001B[49m\u001B[43m(\u001B[49m\u001B[43mprocess_center_ponit_geom\u001B[49m\u001B[43m)\u001B[49m\n",
      "\u001B[36mFile \u001B[39m\u001B[32m~\\AppData\\Local\\Programs\\Python\\Python313\\Lib\\site-packages\\pandas\\core\\series.py:4924\u001B[39m, in \u001B[36mSeries.apply\u001B[39m\u001B[34m(self, func, convert_dtype, args, by_row, **kwargs)\u001B[39m\n\u001B[32m   4798\u001B[39m \u001B[38;5;250m\u001B[39m\u001B[33;03m\"\"\"\u001B[39;00m\n\u001B[32m   4799\u001B[39m \u001B[33;03mInvoke function on values of Series.\u001B[39;00m\n\u001B[32m   4800\u001B[39m \n\u001B[32m   (...)\u001B[39m\u001B[32m   4915\u001B[39m \u001B[33;03mdtype: float64\u001B[39;00m\n\u001B[32m   4916\u001B[39m \u001B[33;03m\"\"\"\u001B[39;00m\n\u001B[32m   4917\u001B[39m \u001B[38;5;28;01mreturn\u001B[39;00m \u001B[43mSeriesApply\u001B[49m\u001B[43m(\u001B[49m\n\u001B[32m   4918\u001B[39m \u001B[43m    \u001B[49m\u001B[38;5;28;43mself\u001B[39;49m\u001B[43m,\u001B[49m\n\u001B[32m   4919\u001B[39m \u001B[43m    \u001B[49m\u001B[43mfunc\u001B[49m\u001B[43m,\u001B[49m\n\u001B[32m   4920\u001B[39m \u001B[43m    \u001B[49m\u001B[43mconvert_dtype\u001B[49m\u001B[43m=\u001B[49m\u001B[43mconvert_dtype\u001B[49m\u001B[43m,\u001B[49m\n\u001B[32m   4921\u001B[39m \u001B[43m    \u001B[49m\u001B[43mby_row\u001B[49m\u001B[43m=\u001B[49m\u001B[43mby_row\u001B[49m\u001B[43m,\u001B[49m\n\u001B[32m   4922\u001B[39m \u001B[43m    \u001B[49m\u001B[43margs\u001B[49m\u001B[43m=\u001B[49m\u001B[43margs\u001B[49m\u001B[43m,\u001B[49m\n\u001B[32m   4923\u001B[39m \u001B[43m    \u001B[49m\u001B[43mkwargs\u001B[49m\u001B[43m=\u001B[49m\u001B[43mkwargs\u001B[49m\u001B[43m,\u001B[49m\n\u001B[32m-> \u001B[39m\u001B[32m4924\u001B[39m \u001B[43m\u001B[49m\u001B[43m)\u001B[49m\u001B[43m.\u001B[49m\u001B[43mapply\u001B[49m\u001B[43m(\u001B[49m\u001B[43m)\u001B[49m\n",
      "\u001B[36mFile \u001B[39m\u001B[32m~\\AppData\\Local\\Programs\\Python\\Python313\\Lib\\site-packages\\pandas\\core\\apply.py:1427\u001B[39m, in \u001B[36mSeriesApply.apply\u001B[39m\u001B[34m(self)\u001B[39m\n\u001B[32m   1426\u001B[39m \u001B[38;5;66;03m# self.func is Callable\u001B[39;00m\n\u001B[32m-> \u001B[39m\u001B[32m1427\u001B[39m \u001B[38;5;28;01mreturn\u001B[39;00m \u001B[38;5;28;43mself\u001B[39;49m\u001B[43m.\u001B[49m\u001B[43mapply_standard\u001B[49m\u001B[43m(\u001B[49m\u001B[43m)\u001B[49m\n",
      "\u001B[36mFile \u001B[39m\u001B[32m~\\AppData\\Local\\Programs\\Python\\Python313\\Lib\\site-packages\\pandas\\core\\apply.py:1507\u001B[39m, in \u001B[36mSeriesApply.apply_standard\u001B[39m\u001B[34m(self)\u001B[39m\n\u001B[32m   1506\u001B[39m action = \u001B[33m\"\u001B[39m\u001B[33mignore\u001B[39m\u001B[33m\"\u001B[39m \u001B[38;5;28;01mif\u001B[39;00m \u001B[38;5;28misinstance\u001B[39m(obj.dtype, CategoricalDtype) \u001B[38;5;28;01melse\u001B[39;00m \u001B[38;5;28;01mNone\u001B[39;00m\n\u001B[32m-> \u001B[39m\u001B[32m1507\u001B[39m mapped = \u001B[43mobj\u001B[49m\u001B[43m.\u001B[49m\u001B[43m_map_values\u001B[49m\u001B[43m(\u001B[49m\n\u001B[32m   1508\u001B[39m \u001B[43m    \u001B[49m\u001B[43mmapper\u001B[49m\u001B[43m=\u001B[49m\u001B[43mcurried\u001B[49m\u001B[43m,\u001B[49m\u001B[43m \u001B[49m\u001B[43mna_action\u001B[49m\u001B[43m=\u001B[49m\u001B[43maction\u001B[49m\u001B[43m,\u001B[49m\u001B[43m \u001B[49m\u001B[43mconvert\u001B[49m\u001B[43m=\u001B[49m\u001B[38;5;28;43mself\u001B[39;49m\u001B[43m.\u001B[49m\u001B[43mconvert_dtype\u001B[49m\n\u001B[32m   1509\u001B[39m \u001B[43m\u001B[49m\u001B[43m)\u001B[49m\n\u001B[32m   1511\u001B[39m \u001B[38;5;28;01mif\u001B[39;00m \u001B[38;5;28mlen\u001B[39m(mapped) \u001B[38;5;129;01mand\u001B[39;00m \u001B[38;5;28misinstance\u001B[39m(mapped[\u001B[32m0\u001B[39m], ABCSeries):\n\u001B[32m   1512\u001B[39m     \u001B[38;5;66;03m# GH#43986 Need to do list(mapped) in order to get treated as nested\u001B[39;00m\n\u001B[32m   1513\u001B[39m     \u001B[38;5;66;03m#  See also GH#25959 regarding EA support\u001B[39;00m\n",
      "\u001B[36mFile \u001B[39m\u001B[32m~\\AppData\\Local\\Programs\\Python\\Python313\\Lib\\site-packages\\pandas\\core\\base.py:921\u001B[39m, in \u001B[36mIndexOpsMixin._map_values\u001B[39m\u001B[34m(self, mapper, na_action, convert)\u001B[39m\n\u001B[32m    919\u001B[39m     \u001B[38;5;28;01mreturn\u001B[39;00m arr.map(mapper, na_action=na_action)\n\u001B[32m--> \u001B[39m\u001B[32m921\u001B[39m \u001B[38;5;28;01mreturn\u001B[39;00m \u001B[43malgorithms\u001B[49m\u001B[43m.\u001B[49m\u001B[43mmap_array\u001B[49m\u001B[43m(\u001B[49m\u001B[43marr\u001B[49m\u001B[43m,\u001B[49m\u001B[43m \u001B[49m\u001B[43mmapper\u001B[49m\u001B[43m,\u001B[49m\u001B[43m \u001B[49m\u001B[43mna_action\u001B[49m\u001B[43m=\u001B[49m\u001B[43mna_action\u001B[49m\u001B[43m,\u001B[49m\u001B[43m \u001B[49m\u001B[43mconvert\u001B[49m\u001B[43m=\u001B[49m\u001B[43mconvert\u001B[49m\u001B[43m)\u001B[49m\n",
      "\u001B[36mFile \u001B[39m\u001B[32m~\\AppData\\Local\\Programs\\Python\\Python313\\Lib\\site-packages\\pandas\\core\\algorithms.py:1743\u001B[39m, in \u001B[36mmap_array\u001B[39m\u001B[34m(arr, mapper, na_action, convert)\u001B[39m\n\u001B[32m   1742\u001B[39m \u001B[38;5;28;01mif\u001B[39;00m na_action \u001B[38;5;129;01mis\u001B[39;00m \u001B[38;5;28;01mNone\u001B[39;00m:\n\u001B[32m-> \u001B[39m\u001B[32m1743\u001B[39m     \u001B[38;5;28;01mreturn\u001B[39;00m \u001B[43mlib\u001B[49m\u001B[43m.\u001B[49m\u001B[43mmap_infer\u001B[49m\u001B[43m(\u001B[49m\u001B[43mvalues\u001B[49m\u001B[43m,\u001B[49m\u001B[43m \u001B[49m\u001B[43mmapper\u001B[49m\u001B[43m,\u001B[49m\u001B[43m \u001B[49m\u001B[43mconvert\u001B[49m\u001B[43m=\u001B[49m\u001B[43mconvert\u001B[49m\u001B[43m)\u001B[49m\n\u001B[32m   1744\u001B[39m \u001B[38;5;28;01melse\u001B[39;00m:\n",
      "\u001B[36mFile \u001B[39m\u001B[32mlib.pyx:2972\u001B[39m, in \u001B[36mpandas._libs.lib.map_infer\u001B[39m\u001B[34m()\u001B[39m\n",
      "\u001B[36mCell\u001B[39m\u001B[36m \u001B[39m\u001B[32mIn[73]\u001B[39m\u001B[32m, line 6\u001B[39m, in \u001B[36mprocess_center_ponit_geom\u001B[39m\u001B[34m(row)\u001B[39m\n\u001B[32m      5\u001B[39m ans = row.split()\n\u001B[32m----> \u001B[39m\u001B[32m6\u001B[39m \u001B[38;5;28;01mreturn\u001B[39;00m \u001B[43mpd\u001B[49m\u001B[43m.\u001B[49m\u001B[43mSeries\u001B[49m\u001B[43m(\u001B[49m\u001B[43m[\u001B[49m\u001B[38;5;28;43mfloat\u001B[39;49m\u001B[43m(\u001B[49m\u001B[43mans\u001B[49m\u001B[43m[\u001B[49m\u001B[32;43m0\u001B[39;49m\u001B[43m]\u001B[49m\u001B[43m)\u001B[49m\u001B[43m,\u001B[49m\u001B[38;5;28;43mfloat\u001B[39;49m\u001B[43m(\u001B[49m\u001B[43mans\u001B[49m\u001B[43m[\u001B[49m\u001B[32;43m1\u001B[39;49m\u001B[43m]\u001B[49m\u001B[43m)\u001B[49m\u001B[43m]\u001B[49m\u001B[43m)\u001B[49m\n",
      "\u001B[31mKeyboardInterrupt\u001B[39m: ",
      "\nDuring handling of the above exception, another exception occurred:\n",
      "\u001B[31mKeyboardInterrupt\u001B[39m                         Traceback (most recent call last)",
      "    \u001B[31m[... skipping hidden 1 frame]\u001B[39m\n",
      "\u001B[36mFile \u001B[39m\u001B[32m~\\AppData\\Local\\Programs\\Python\\Python313\\Lib\\site-packages\\IPython\\core\\interactiveshell.py:2120\u001B[39m, in \u001B[36mInteractiveShell.showtraceback\u001B[39m\u001B[34m(self, exc_tuple, filename, tb_offset, exception_only, running_compiled_code)\u001B[39m\n\u001B[32m   2117\u001B[39m     msg = traceback.format_exception_only(etype, value)\n\u001B[32m   2118\u001B[39m     \u001B[38;5;28;01mreturn\u001B[39;00m \u001B[33m'\u001B[39m\u001B[33m'\u001B[39m.join(msg)\n\u001B[32m-> \u001B[39m\u001B[32m2120\u001B[39m \u001B[38;5;28;01mdef\u001B[39;00m\u001B[38;5;250m \u001B[39m\u001B[34mshowtraceback\u001B[39m(\u001B[38;5;28mself\u001B[39m, exc_tuple=\u001B[38;5;28;01mNone\u001B[39;00m, filename=\u001B[38;5;28;01mNone\u001B[39;00m, tb_offset=\u001B[38;5;28;01mNone\u001B[39;00m,\n\u001B[32m   2121\u001B[39m                   exception_only=\u001B[38;5;28;01mFalse\u001B[39;00m, running_compiled_code=\u001B[38;5;28;01mFalse\u001B[39;00m):\n\u001B[32m   2122\u001B[39m \u001B[38;5;250m    \u001B[39m\u001B[33;03m\"\"\"Display the exception that just occurred.\u001B[39;00m\n\u001B[32m   2123\u001B[39m \n\u001B[32m   2124\u001B[39m \u001B[33;03m    If nothing is known about the exception, this is the method which\u001B[39;00m\n\u001B[32m   (...)\u001B[39m\u001B[32m   2130\u001B[39m \u001B[33;03m    SyntaxError exception, don't try to analyze the stack manually and\u001B[39;00m\n\u001B[32m   2131\u001B[39m \u001B[33;03m    simply call this method.\"\"\"\u001B[39;00m\n\u001B[32m   2133\u001B[39m     \u001B[38;5;28;01mtry\u001B[39;00m:\n",
      "\u001B[31mKeyboardInterrupt\u001B[39m: "
     ]
    }
   ],
   "execution_count": 73
  },
  {
   "metadata": {},
   "cell_type": "code",
   "outputs": [],
   "execution_count": null,
   "source": "df",
   "id": "980cbaa187ea8ad6"
  },
  {
   "metadata": {},
   "cell_type": "code",
   "outputs": [],
   "execution_count": null,
   "source": "",
   "id": "5f43bfde69cccb8e"
  }
 ],
 "metadata": {
  "kernelspec": {
   "display_name": "Python 3",
   "language": "python",
   "name": "python3"
  },
  "language_info": {
   "codemirror_mode": {
    "name": "ipython",
    "version": 2
   },
   "file_extension": ".py",
   "mimetype": "text/x-python",
   "name": "python",
   "nbconvert_exporter": "python",
   "pygments_lexer": "ipython2",
   "version": "2.7.6"
  }
 },
 "nbformat": 4,
 "nbformat_minor": 5
}
